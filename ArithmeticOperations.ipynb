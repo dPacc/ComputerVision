{
 "cells": [
  {
   "cell_type": "code",
   "execution_count": 1,
   "metadata": {},
   "outputs": [],
   "source": [
    "import cv2\n",
    "import numpy as np"
   ]
  },
  {
   "cell_type": "code",
   "execution_count": 2,
   "metadata": {},
   "outputs": [],
   "source": [
    "image = cv2.imread(\"images/input.jpg\")\n",
    "\n",
    "# We need to make the Matrix for adding or subtracting\n",
    "# We build a np.ones with the input images shape and the scale it to 75 with a vector\n",
    "# Note that the Matrix should always lie between 0 and 255\n",
    "\n",
    "M = np.ones(image.shape, dtype=\"uint8\") * 75\n",
    "\n",
    "# Adding\n",
    "Added = cv2.add(image, M)\n",
    "cv2.imshow(\"Added Image\", Added)\n",
    "cv2.waitKey(0)\n",
    "\n",
    "# Subtracting\n",
    "Sub = cv2.subtract(image, M)\n",
    "cv2.imshow(\"Sub Image\", Sub)\n",
    "cv2.waitKey(0)\n",
    "\n",
    "cv2.destroyAllWindows()"
   ]
  },
  {
   "cell_type": "code",
   "execution_count": null,
   "metadata": {},
   "outputs": [],
   "source": []
  }
 ],
 "metadata": {
  "kernelspec": {
   "display_name": "Python 2",
   "language": "python",
   "name": "python2"
  },
  "language_info": {
   "codemirror_mode": {
    "name": "ipython",
    "version": 2
   },
   "file_extension": ".py",
   "mimetype": "text/x-python",
   "name": "python",
   "nbconvert_exporter": "python",
   "pygments_lexer": "ipython2",
   "version": "2.7.15"
  }
 },
 "nbformat": 4,
 "nbformat_minor": 2
}
