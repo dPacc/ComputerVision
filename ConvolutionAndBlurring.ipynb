{
 "cells": [
  {
   "cell_type": "code",
   "execution_count": 1,
   "metadata": {},
   "outputs": [],
   "source": [
    "import cv2\n",
    "import numpy as np"
   ]
  },
  {
   "cell_type": "code",
   "execution_count": 3,
   "metadata": {},
   "outputs": [],
   "source": [
    "image = cv2.imread(\"images/input.jpg\")\n",
    "cv2.imshow(\"Original Image\", image)\n",
    "cv2.waitKey(0)\n",
    "\n",
    "# 3x3 Kernel\n",
    "kernel_3x3 = np.ones((3, 3), np.float32) / 9\n",
    "blur = cv2.filter2D(image, -1 ,kernel_3x3)\n",
    "cv2.imshow(\"3x3 Kernel\", blur)\n",
    "cv2.waitKey(0)\n",
    "\n",
    "# 7x7 Kernel\n",
    "kernel_7x7 = np.ones((7, 7), np.float32) / 49\n",
    "blur = cv2.filter2D(image, -1 ,kernel_7x7)\n",
    "cv2.imshow(\"7x7 Kernel\", blur)\n",
    "cv2.waitKey(0)\n",
    "\n",
    "cv2.destroyAllWindows()"
   ]
  },
  {
   "cell_type": "markdown",
   "metadata": {},
   "source": [
    "# Other commonly used blurring methods"
   ]
  },
  {
   "cell_type": "code",
   "execution_count": null,
   "metadata": {},
   "outputs": [],
   "source": [
    "import cv2\n",
    "import numpy as np\n",
    "\n",
    "image = cv2.imread(\"images/elephant.jpg\")\n",
    "\n",
    "# Box Blur, averages\n",
    "blur = cv2.blur(image, (3, 3))\n",
    "cv2.imshow(\"Box Blur\", blur)\n",
    "cv2.waitKey(0)\n",
    "\n",
    "# Gaussian Kernel\n",
    "gauss = cv2.GaussianBlur(image, (3, 3), 0)\n",
    "cv2.imshow(\"Gaussian Blur\", blur)\n",
    "cv2.waitKey(0)\n",
    "\n",
    "# Median Blur\n",
    "median = cv2.medianBlur(image, 5)\n",
    "cv2.imshow(\"Median Blur\", blur)\n",
    "cv2.waitKey(0)\n",
    "\n",
    "# Bilateral Blur\n",
    "bilateral = cv2.bilateralFilter(image, 9, 75, 75)\n",
    "cv2.imshow(\"Median Blur\", blur)\n",
    "cv2.waitKey(0)\n",
    "\n",
    "\n",
    "# Image De Noising\n",
    "denoise = cv2.fastNlMeansDenoising(image, None, 6, 6, 7, 21)\n",
    "cv2.imshow(\"Denoising\", denoise)\n",
    "cv2.waitKey(0)\n",
    "\n",
    "\n",
    "cv2.destroyAllWindows()"
   ]
  },
  {
   "cell_type": "code",
   "execution_count": null,
   "metadata": {},
   "outputs": [],
   "source": []
  }
 ],
 "metadata": {
  "kernelspec": {
   "display_name": "Python 2",
   "language": "python",
   "name": "python2"
  },
  "language_info": {
   "codemirror_mode": {
    "name": "ipython",
    "version": 2
   },
   "file_extension": ".py",
   "mimetype": "text/x-python",
   "name": "python",
   "nbconvert_exporter": "python",
   "pygments_lexer": "ipython2",
   "version": "2.7.15"
  }
 },
 "nbformat": 4,
 "nbformat_minor": 2
}
